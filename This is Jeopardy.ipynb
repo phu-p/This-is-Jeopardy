{
 "cells": [
  {
   "cell_type": "markdown",
   "metadata": {},
   "source": [
    "# This is Jeopardy!"
   ]
  },
  {
   "cell_type": "markdown",
   "metadata": {},
   "source": [
    "#### Overview"
   ]
  },
  {
   "cell_type": "markdown",
   "metadata": {},
   "source": [
    "This project is slightly different than others you have encountered thus far. Instead of a step-by-step tutorial, this project contains a series of open-ended requirements which describe the project you'll be building. There are many possible ways to correctly fulfill all of these requirements, and you should expect to use the internet, Codecademy, and/or other resources when you encounter a problem that you cannot easily solve."
   ]
  },
  {
   "cell_type": "markdown",
   "metadata": {},
   "source": [
    "#### Project Goals"
   ]
  },
  {
   "cell_type": "markdown",
   "metadata": {},
   "source": [
    "You will work to write several functions that investigate a dataset of _Jeopardy!_ questions and answers. Filter the dataset for topics that you're interested in, compute the average difficulty of those questions, and train to become the next Jeopardy champion!"
   ]
  },
  {
   "cell_type": "markdown",
   "metadata": {},
   "source": [
    "## Prerequisites"
   ]
  },
  {
   "cell_type": "markdown",
   "metadata": {},
   "source": [
    "In order to complete this project, you should have completed the Pandas lessons in the <a href=\"https://www.codecademy.com/learn/paths/analyze-data-with-python\">Analyze Data with Python Skill Path</a>. You can also find those lessons in the <a href=\"https://www.codecademy.com/learn/data-processing-pandas\">Data Analysis with Pandas course</a> or the <a href=\"https://www.codecademy.com/learn/paths/data-science/\">Data Scientist Career Path</a>.\n",
    "\n",
    "Finally, the <a href=\"https://www.codecademy.com/learn/practical-data-cleaning\">Practical Data Cleaning</a> course may also be helpful."
   ]
  },
  {
   "cell_type": "markdown",
   "metadata": {},
   "source": [
    "## Project Requirements"
   ]
  },
  {
   "cell_type": "markdown",
   "metadata": {},
   "source": [
    "1. We've provided a csv file containing data about the game show _Jeopardy!_ in a file named `jeopardy.csv`. Load the data into a DataFrame and investigate its contents. Try to print out specific columns.\n",
    "\n",
    "   Note that in order to make this project as \"real-world\" as possible, we haven't modified the data at all - we're giving it to you exactly how we found it. As a result, this data isn't as \"clean\" as the datasets you normally find on Codecademy. More specifically, there's something odd about the column names. After you figure out the problem with the column names, you may want to rename them to make your life easier for the rest of the project.\n",
    "   \n",
    "   In order to display the full contents of a column, we've added this line of code for you:\n",
    "   \n",
    "   ```py\n",
    "   pd.set_option('display.max_colwidth', None)\n",
    "   ```"
   ]
  },
  {
   "cell_type": "code",
   "execution_count": 1,
   "metadata": {},
   "outputs": [
    {
     "name": "stdout",
     "output_type": "stream",
     "text": [
      "Index(['Show Number', 'Air Date', 'Round', 'Category', 'Value', 'Question',\n",
      "       'Answer'],\n",
      "      dtype='object')\n",
      "        Show Number    Air Date             Round  \\\n",
      "0              4680  2004-12-31         Jeopardy!   \n",
      "1              4680  2004-12-31         Jeopardy!   \n",
      "2              4680  2004-12-31         Jeopardy!   \n",
      "3              4680  2004-12-31         Jeopardy!   \n",
      "4              4680  2004-12-31         Jeopardy!   \n",
      "...             ...         ...               ...   \n",
      "216925         4999  2006-05-11  Double Jeopardy!   \n",
      "216926         4999  2006-05-11  Double Jeopardy!   \n",
      "216927         4999  2006-05-11  Double Jeopardy!   \n",
      "216928         4999  2006-05-11  Double Jeopardy!   \n",
      "216929         4999  2006-05-11   Final Jeopardy!   \n",
      "\n",
      "                               Category     Value  \\\n",
      "0                               HISTORY      $200   \n",
      "1       ESPN's TOP 10 ALL-TIME ATHLETES      $200   \n",
      "2           EVERYBODY TALKS ABOUT IT...      $200   \n",
      "3                      THE COMPANY LINE      $200   \n",
      "4                   EPITAPHS & TRIBUTES      $200   \n",
      "...                                 ...       ...   \n",
      "216925                   RIDDLE ME THIS     $2000   \n",
      "216926                        \"T\" BIRDS     $2000   \n",
      "216927           AUTHORS IN THEIR YOUTH     $2000   \n",
      "216928                       QUOTATIONS     $2000   \n",
      "216929                   HISTORIC NAMES  no value   \n",
      "\n",
      "                                                                                                                      Question  \\\n",
      "0                             For the last 8 years of his life, Galileo was under house arrest for espousing this man's theory   \n",
      "1                  No. 2: 1912 Olympian; football star at Carlisle Indian School; 6 MLB seasons with the Reds, Giants & Braves   \n",
      "2                                     The city of Yuma in this state has a record average of 4,055 hours of sunshine each year   \n",
      "3                                         In 1963, live on \"The Art Linkletter Show\", this company served its billionth burger   \n",
      "4                     Signer of the Dec. of Indep., framer of the Constitution of Mass., second President of the United States   \n",
      "...                                                                                                                        ...   \n",
      "216925                                              This Puccini opera turns on the solution to 3 riddles posed by the heroine   \n",
      "216926                 In North America this term is properly applied to only 4 species that are crested, including the tufted   \n",
      "216927               In Penny Lane, where this \"Hellraiser\" grew up, the barber shaves another customer--then flays him alive!   \n",
      "216928  From Ft. Sill, Okla. he made the plea, Arizona is my land, my home, my father's land, to which I now ask to... return\"   \n",
      "216929                 A silent movie title includes the last name of this 18th c. statesman & favorite of Catherine the Great   \n",
      "\n",
      "                                Answer  \n",
      "0                           Copernicus  \n",
      "1                           Jim Thorpe  \n",
      "2                              Arizona  \n",
      "3                           McDonald's  \n",
      "4                           John Adams  \n",
      "...                                ...  \n",
      "216925                        Turandot  \n",
      "216926                      a titmouse  \n",
      "216927                    Clive Barker  \n",
      "216928                        Geronimo  \n",
      "216929  Grigori Alexandrovich Potemkin  \n",
      "\n",
      "[216930 rows x 7 columns]\n"
     ]
    }
   ],
   "source": [
    "import pandas as pd\n",
    "pd.set_option('display.max_colwidth', None)\n",
    "\n",
    "jeopardy_data = pd.read_csv('jeopardy.csv')\n",
    "\n",
    "# Task 1\n",
    "# .str.strip() applies the strip method to each column\n",
    "# thus removing any leading or trailing spaces\n",
    "jeopardy_data = jeopardy_data.rename(columns = {\" Air Date\": \"Air Date\", \" Round\" : \"Round\", \" Category\": \"Category\", \" Value\": \"Value\", \" Question\":\"Question\", \" Answer\": \"Answer\"})\n",
    "\n",
    "print(jeopardy_data.columns)\n",
    "print(jeopardy_data)"
   ]
  },
  {
   "cell_type": "markdown",
   "metadata": {},
   "source": [
    "2. Write a function that filters the dataset for questions that contains all of the words in a list of words. For example, when the list `[\"King\", \"England\"]` was passed to our function, the function returned a DataFrame of 49 rows. Every row had the strings `\"King\"` and `\"England\"` somewhere in its `\" Question\"`.\n",
    "\n",
    "   Test your function by printing out the column containing the question of each row of the dataset."
   ]
  },
  {
   "cell_type": "code",
   "execution_count": 19,
   "metadata": {},
   "outputs": [
    {
     "name": "stdout",
     "output_type": "stream",
     "text": [
      "6337               In retaliation for Viking raids, this \"Unready\" king of England attacks Norse areas of the Isle of Man\n",
      "9191                             This king of England beat the odds to trounce the French in the 1415 Battle of Agincourt\n",
      "13454                                                It's the number that followed the last king of England named William\n",
      "14912                   This country's King Louis IV was nicknamed \"Louis From Overseas\" because he was raised in England\n",
      "18076                     In 1199 this crusader king of England was mortally wounded while besieging the castle of Chalus\n",
      "                                                               ...                                                       \n",
      "200369    8th C. King Offa built a 170-mile north-south dike that still partly marks the border of England & this country\n",
      "201168                                           Popular Saint-Exupery character waiting around to become king of England\n",
      "208742                               Dutch-born king who ruled England jointly with Mary II & is a tasty New Zealand fish\n",
      "213870                         In 1781 William Herschel discovered Uranus & initially named it after this king of England\n",
      "216021                   His nickname was \"Bertie\", but he used this name & number when he became king of England in 1901\n",
      "Name: Question, Length: 74, dtype: object\n"
     ]
    }
   ],
   "source": [
    "# Function filter_questions(dataframe, words_list):\n",
    "    # Convert all words in words_list to lowercase for case-insensitive comparison\n",
    "    # lowercase_words = convert each word in words_list to lowercase\n",
    "\n",
    "    # Define a lambda function to check if all words are in a question\n",
    "    # check_words_in_question = lambda question: \n",
    "        # Convert the question to lowercase\n",
    "            # lowercase_question = convert question to lowercase\n",
    "        # check if all words in lowercase_words are present in lowercase_question\n",
    "            # return True if all words in lowercase_words are found in lowercase_question\n",
    "            # else False\n",
    "    # Apply the lambda function to the 'Question' column of the dataframe\n",
    "        # filtered_dataframe = dataframe where check_words_in_question(question) is True for each question in 'Question' column\n",
    "\n",
    "def filter_data(data, words):\n",
    "    # Convert all words to lowercase\n",
    "    lowercase_words = [word.lower() for word in words]\n",
    "\n",
    "    def check_words_in_question(question):\n",
    "        # Convert the question to lowercase and split into words\n",
    "        question_words = question.lower().split()\n",
    "\n",
    "        # Check if all words in lowercase_words are present in question_words\n",
    "        for word in lowercase_words:\n",
    "            if word not in question_words:\n",
    "                return False\n",
    "        return True\n",
    "\n",
    "    # Apply the function to the \"Question\" column and filter the DataFrame\n",
    "    filtered_data = data.loc[data['Question'].apply(check_words_in_question)]\n",
    "    return filtered_data\n",
    "\n",
    "# Use the function and print the filtered questions\n",
    "filtered = filter_data(jeopardy_data, [\"King\", \"England\"])\n",
    "print(filtered[\"Question\"])\n",
    "\n",
    "            \n",
    "\n",
    "\n"
   ]
  },
  {
   "cell_type": "markdown",
   "metadata": {},
   "source": [
    "3. Test your original function with a few different sets of words to try to find some ways your function breaks. Edit your function so it is more robust.\n",
    "\n",
    "   For example, think about capitalization. We probably want to find questions that contain the word `\"King\"` or `\"king\"`.\n",
    "   \n",
    "   You may also want to check to make sure you don't find rows that contain substrings of your given words. For example, our function found a question that didn't contain the word `\"king\"`, however it did contain the word `\"viking\"` &mdash; it found the `\"king\"` inside `\"viking\"`. Note that this also comes with some drawbacks &mdash; you would no longer find questions that contained words like `\"England's\"`."
   ]
  },
  {
   "cell_type": "code",
   "execution_count": 44,
   "metadata": {},
   "outputs": [
    {
     "name": "stdout",
     "output_type": "stream",
     "text": [
      "4953                                                                                                                                                                                                                                                                      Both England's King George V & FDR put their stamp of approval on this \"King of Hobbies\"\n",
      "27555                                                                                                                                                                                                                                                                           This member of the Medici family was the mother-in-law of England's King Charles I\n",
      "41357                                                                                                                                                                                                                                                     England's King Henry VIII had 3 wives named Catherine:  Catherine Howard, Catherine of Aragon & this one\n",
      "43122                                                                                                                                                                                                                                                                                                                       The father of England's King Edward VI\n",
      "51565                                                                                                                                                                                                                                                 He wrote several anthems, including \"The King Shall Rejoice\", for the coronation of England's King George II\n",
      "56600                                                                                                                                                                                                                                                              This city known for its 24-hour auto race was the birthplace of England's King Henry II in 1133\n",
      "57516                                                                                                                                                                                                                                                                                         Famous (& rather insulting) adjective for England's King Ethelred II\n",
      "74235                                                                                                                                                                                                                                                                     Barons & churchmen drew up this 1215 document to reduce the power of England's King John\n",
      "80113                                                                                                                                                                                                                                                                                                England's King Charles II was known by this \"jovial\" nickname\n",
      "125822                                                                                                                                                                                                                                                                                              Famous nickname of the eldest son of England's King Edward III\n",
      "143434                                                                                                                                                                                                                                                                This Flemish artist painted a unique triple portrait of England's King Charles I around 1637\n",
      "191579                                                                                                                                                                                                                                                                             England's King Harold II lost the all-important Battle of Hastings in this year\n",
      "192265    (<a href=\"http://www.j-archive.com/media/2012-01-17_DJ_25.jpg\" target=\"_blank\">Sarah of the Clue Crew stands in front of the Royal Palace in Oslo, Norway.</a>) King Harald V lives here, in Norway's Royal Palace. He and his second cousin, England's Queen Elizabeth, are both great-grandchildren of this British king, who ruled from 1901 to 1910.\n",
      "192966                                                                                                                                                                                                                                                                                                                          England's King _____ _____ R. Luce\n",
      "Name: Question, dtype: object\n"
     ]
    }
   ],
   "source": [
    "import pandas as pd\n",
    "pd.set_option('display.max_colwidth', None)\n",
    "jeopardy_data = pd.read_csv('jeopardy.csv')\n",
    "jeopardy_data = jeopardy_data.rename(columns = {\" Air Date\": \"Air Date\", \" Round\" : \"Round\", \" Category\": \"Category\", \" Value\": \"Value\", \" Question\":\"Question\", \" Answer\": \"Answer\"})\n",
    "\n",
    "\n",
    "########################################################################\n",
    "# Task 3 begins down here\n",
    "# Adjusted the function to distinguish between capitalized word and non-capitalized word\n",
    "# The function doesn't output the rows that contain substrings of my given words\n",
    "    # Ex: The word 'England' won't give the rows that have the word 'England's'\n",
    "\n",
    "def filter_data_updated(data, words):\n",
    "\n",
    "    def check_words_in_question(question):\n",
    "        # Convert the question to lowercase and split into words\n",
    "        question_words = question.split()\n",
    "\n",
    "        # Check if all words in lowercase_words are present in question_words\n",
    "        for word in words:\n",
    "            if word not in question_words:\n",
    "                return False\n",
    "        return True\n",
    "\n",
    "    # Apply the function to the \"Question\" column and filter the DataFrame\n",
    "    filtered_data = data.loc[data['Question'].apply(check_words_in_question)]\n",
    "    return filtered_data\n",
    "\n",
    "\n",
    "# Test the original function with different set of words\n",
    "second_filtered_data = filter_data_updated(jeopardy_data, ['England\\'s', 'King'])\n",
    "print(second_filtered_data['Question'])\n"
   ]
  },
  {
   "cell_type": "markdown",
   "metadata": {},
   "source": [
    "4. We may want to eventually compute aggregate statistics, like `.mean()` on the `\" Value\"` column. But right now, the values in that column are strings. Convert the`\" Value\"` column to floats. If you'd like to, you can create a new column with float values.\n",
    "\n",
    "   While most of the values in the `\" Value\"` column represent a dollar amount as a string, note that some do not &mdash; these values will need to be handled differently!\n",
    "\n",
    "   Now that you can filter the dataset of question, use your new column that contains the float values of each question to find the \"difficulty\" of certain topics. For example, what is the average value of questions that contain the word `\"King\"`?\n",
    "   \n",
    "   Make sure to use the dataset that contains the float values as the dataset you use in your filtering function."
   ]
  },
  {
   "cell_type": "code",
   "execution_count": 7,
   "metadata": {},
   "outputs": [
    {
     "name": "stdout",
     "output_type": "stream",
     "text": [
      "771.8833850722094\n"
     ]
    }
   ],
   "source": [
    "import pandas as pd\n",
    "pd.set_option('display.max_colwidth', None)\n",
    "jeopardy_data = pd.read_csv('jeopardy.csv')\n",
    "jeopardy_data = jeopardy_data.rename(columns = {\" Air Date\": \"Air Date\", \" Round\" : \"Round\", \" Category\": \"Category\", \" Value\": \"Value\", \" Question\":\"Question\", \" Answer\": \"Answer\"})\n",
    "\n",
    "\n",
    "\n",
    "# 1/ convert all the strings in Value column into values\n",
    "jeopardy_data['Value'] = jeopardy_data['Value'].str.replace('$', '').str.replace(',', '').str.replace('no value', '0')\n",
    "jeopardy_data['Value'] = jeopardy_data['Value'].astype(float)\n",
    "\n",
    "# 2/ create a function that takes in a word and returns the average value of questions that contain that word\n",
    "def average_value(data, word):\n",
    "    # Filter the data to only include rows with the word in the question\n",
    "    filtered_data = data.loc[data['Question'].str.contains(word, case=False)]\n",
    "    # Calculate the average value of these rows\n",
    "    average = filtered_data['Value'].mean()\n",
    "    return average\n",
    "\n",
    "print(average_value(jeopardy_data, 'King'))"
   ]
  },
  {
   "cell_type": "markdown",
   "metadata": {},
   "source": [
    "5. Write a function that returns the count of unique answers to all of the questions in a dataset. For example, after filtering the entire dataset to only questions containing the word `\"King\"`, we could then find all of the unique answers to those questions. The answer \"Henry VIII\" appeared 55 times and was the most common answer."
   ]
  },
  {
   "cell_type": "code",
   "execution_count": 38,
   "metadata": {},
   "outputs": [
    {
     "name": "stdout",
     "output_type": "stream",
     "text": [
      "Answer\n",
      "Toni Morrison            8\n",
      "Sheba                    5\n",
      "Queen of Sheba           5\n",
      "the Queen of Sheba       4\n",
      "3rd Rock from the Sun    4\n",
      "                        ..\n",
      "Temple                   1\n",
      "The Ten Commandments     1\n",
      "5                        1\n",
      "\"Song of Songs\"          1\n",
      "courage                  1\n",
      "Name: count, Length: 63, dtype: int64\n"
     ]
    }
   ],
   "source": [
    "# a function that takes in a data and a word\n",
    "def count_unique_answers(data, word):\n",
    "    # filter the data to only include rows with the word in the question\n",
    "    filtered_data = data.loc[data['Question'].str.contains(word, case=False)]\n",
    "    # count how many unique answers to those questions that contain a certain word\n",
    "    count = filtered_data['Answer'].value_counts()\n",
    "    # return the count\n",
    "    return count\n",
    "\n",
    "print(count_unique_answers(jeopardy_data, 'Solomon'))\n"
   ]
  },
  {
   "cell_type": "markdown",
   "metadata": {},
   "source": [
    "6. Explore from here! This is an incredibly rich dataset, and there are so many interesting things to discover. There are a few columns that we haven't even started looking at yet. Here are some ideas on ways to continue working with this data:\n",
    "\n",
    " * Investigate the ways in which questions change over time by filtering by the date. How many questions from the 90s use the word `\"Computer\"` compared to questions from the 2000s?\n",
    " * Is there a connection between the round and the category? Are you more likely to find certain categories, like `\"Literature\"` in Single Jeopardy or Double Jeopardy?\n",
    " * Build a system to quiz yourself. Grab random questions, and use the <a href=\"https://docs.python.org/3/library/functions.html#input\">input</a> function to get a response from the user. Check to see if that response was right or wrong."
   ]
  },
  {
   "cell_type": "code",
   "execution_count": 24,
   "metadata": {},
   "outputs": [
    {
     "name": "stdout",
     "output_type": "stream",
     "text": [
      "Task 1:\n",
      "Number of questions in the 1990s containing 'Computer': 98\n",
      "Number of questions in the 2000s containing 'Computer': 268\n",
      "\n",
      "Task 2:\n",
      "                  Round                   Category  Counts\n",
      "2581   Double Jeopardy!             BEFORE & AFTER     450\n",
      "7495   Double Jeopardy!                 LITERATURE     381\n",
      "10431  Double Jeopardy!                    SCIENCE     296\n",
      "14275  Double Jeopardy!            WORLD GEOGRAPHY     254\n",
      "9108   Double Jeopardy!                      OPERA     250\n",
      "...                 ...                        ...     ...\n",
      "30824         Jeopardy!            WEATHER CHANNEL       1\n",
      "30913         Jeopardy!  WHAT ARE YOU DOING LATER?       1\n",
      "31683        Tiebreaker               CHILD'S PLAY       1\n",
      "31684        Tiebreaker        LITERARY CHARACTERS       1\n",
      "31685        Tiebreaker    THE AMERICAN REVOLUTION       1\n",
      "\n",
      "[31686 rows x 3 columns]\n",
      "\n",
      "Task 3:\n",
      "Quiz Questions:\n",
      "Question 1: It's the year in which the U.S. will celebrate its tricentennial\n",
      "Question 2: Jane Campion, director of \"The Piano\", grew up in Waikanae in this country\n",
      "Question 3: XIII: Terry Bradshaw\n",
      "Question 4: Physicist Heinrich Hertz was born in 1857 in this German city for which a beef sandwich is named\n",
      "Question 5: A tongue twister mentions rubber bumpers on this 2-word conveyance (both words fit the category)\n",
      "\n",
      "Please input your answers:\n",
      "\n",
      "Correct Answers:\n",
      "Question 1: 2076\n",
      "Question 2: New Zealand\n",
      "Question 3: Pittsburgh Steelers\n",
      "Question 4: Hamburg\n",
      "Question 5: baby buggy\n",
      "\n",
      "Your Answers:\n",
      "Question 1: 2076\n",
      "Question 2: New Zealand\n",
      "Question 3: Pittsburg Steelers\n",
      "Question 4: Hamburg\n",
      "Question 5: baby buggy\n"
     ]
    }
   ],
   "source": [
    "import pandas as pd\n",
    "pd.set_option('display.max_colwidth', None)\n",
    "jeopardy_data = pd.read_csv('jeopardy.csv')\n",
    "jeopardy_data = jeopardy_data.rename(columns = {\" Air Date\": \"Air Date\", \" Round\" : \"Round\", \" Category\": \"Category\", \" Value\": \"Value\", \" Question\":\"Question\", \" Answer\": \"Answer\"})\n",
    "\n",
    "# Task 1\n",
    "def filter_by_date_and_word(data, word, start_date, end_date):\n",
    "    # Convert the 'Air Date' column to datetime\n",
    "    data['Air Date'] = pd.to_datetime(data['Air Date'])\n",
    "    \n",
    "    # Filter the data by the date range\n",
    "    date_filtered_data = data[(data['Air Date'] >= start_date) & (data['Air Date'] <= end_date)]\n",
    "    \n",
    "    # Filter the data by the word in the question\n",
    "    word_filtered_data = date_filtered_data[date_filtered_data['Question'].str.contains(word, case=False)]\n",
    "    \n",
    "    return word_filtered_data\n",
    "\n",
    "# Example usage:\n",
    "# Compare the use of the word \"Computer\" in the 1990s and 2000s\n",
    "data_1990s = filter_by_date_and_word(jeopardy_data, 'Computer', '1990-01-01', '1999-12-31')\n",
    "data_2000s = filter_by_date_and_word(jeopardy_data, 'Computer', '2000-01-01', '2009-12-31')\n",
    "\n",
    "print('Task 1:')\n",
    "print(f\"Number of questions in the 1990s containing 'Computer': {len(data_1990s)}\")\n",
    "print(f\"Number of questions in the 2000s containing 'Computer': {len(data_2000s)}\")\n",
    "print('')\n",
    "\n",
    "# Task 2\n",
    "def common_categories_by_round(data):\n",
    "    # Group the data by 'Round' and 'Category'\n",
    "    grouped_data = data.groupby(['Round', 'Category']).size().reset_index(name='Counts')\n",
    "    \n",
    "    # Sort the results by 'Round' and 'Counts' in descending order\n",
    "    sorted_data = grouped_data.sort_values(by=['Round', 'Counts'], ascending=[True, False])\n",
    "    \n",
    "    return sorted_data\n",
    "\n",
    "print('Task 2:')\n",
    "# Display the top categories for each round\n",
    "print(common_categories_by_round(jeopardy_data))\n",
    "print('')\n",
    "\n",
    "# Task 3\n",
    "def get_random_questions(data, n):\n",
    "    # Randomly sample n questions from the data\n",
    "    random_questions = data['Question'].sample(n)\n",
    "    \n",
    "    return random_questions\n",
    "\n",
    "def get_answer_based_on_questions(data, questions):\n",
    "    # Get the answers for the given questions using their index\n",
    "    answers = data.loc[questions.index, 'Answer']\n",
    "    \n",
    "    return answers\n",
    "\n",
    "def quiz(data, n):\n",
    "    # Get n random questions\n",
    "    questions = get_random_questions(data, n)\n",
    "    \n",
    "    # Get the answers for the random questions\n",
    "    answers = get_answer_based_on_questions(data, questions)\n",
    "    \n",
    "    # Display the questions and ask the user to input the answers\n",
    "    print('Quiz Questions:')\n",
    "    for i, question in enumerate(questions):\n",
    "        print(f'Question {i+1}: {question}')\n",
    "\n",
    "    print('\\nPlease input your answers:')\n",
    "    user_answers = []\n",
    "    for i in range(n):\n",
    "        user_answer = input(f'Answer to Question {i+1}: ')\n",
    "        user_answers.append(user_answer)\n",
    "    \n",
    "    # Check the user's answers by converting the answers to a python list\n",
    "    correct_answers = answers.tolist()\n",
    "\n",
    "    # Display the correct answers\n",
    "    print('\\nCorrect Answers:')\n",
    "    for i, answer in enumerate(correct_answers):\n",
    "        print(f'Question {i+1}: {answer}')\n",
    "\n",
    "    # Display the user's answers\n",
    "    print('\\nYour Answers:')\n",
    "    for i, answer in enumerate(user_answers):\n",
    "        print(f'Question {i+1}: {answer}')\n",
    "    \n",
    "\n",
    "print('Task 3:')\n",
    "# Quiz the user with 5 random questions\n",
    "quiz(jeopardy_data, 5)\n",
    "\n"
   ]
  },
  {
   "cell_type": "markdown",
   "metadata": {},
   "source": [
    "## Solution"
   ]
  },
  {
   "cell_type": "markdown",
   "metadata": {},
   "source": [
    "7. Compare your program to our <a href=\"https://content.codecademy.com/PRO/independent-practice-projects/jeopardy/jeopardy_solution.zip\">sample solution code</a> - remember, that your program might look different from ours (and probably will) and that's okay!"
   ]
  },
  {
   "cell_type": "markdown",
   "metadata": {},
   "source": [
    "8. Great work! Visit <a href=\"https://discuss.codecademy.com/t/this-is-jeopardy-challenge-project-python-pandas/462365\">our forums</a> to compare your project to our sample solution code. You can also learn how to host your own solution on GitHub so you can share it with other learners! Your solution might look different from ours, and that's okay! There are multiple ways to solve these projects, and you'll learn more by seeing others' code."
   ]
  },
  {
   "cell_type": "code",
   "execution_count": null,
   "metadata": {},
   "outputs": [],
   "source": []
  }
 ],
 "metadata": {
  "kernelspec": {
   "display_name": "Python 3",
   "language": "python",
   "name": "python3"
  },
  "language_info": {
   "codemirror_mode": {
    "name": "ipython",
    "version": 3
   },
   "file_extension": ".py",
   "mimetype": "text/x-python",
   "name": "python",
   "nbconvert_exporter": "python",
   "pygments_lexer": "ipython3",
   "version": "3.11.4"
  }
 },
 "nbformat": 4,
 "nbformat_minor": 2
}
